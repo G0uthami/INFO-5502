{
 "cells": [
  {
   "cell_type": "markdown",
   "metadata": {},
   "source": [
    "### Import all Libraries"
   ]
  },
  {
   "cell_type": "code",
   "execution_count": 5,
   "metadata": {},
   "outputs": [],
   "source": [
    "import datascience as ds\n",
    "from datascience import Table\n",
    "import numpy as np"
   ]
  },
  {
   "cell_type": "markdown",
   "metadata": {},
   "source": [
    "### 1.1 Question 1\n",
    "#### Complete the function one resampled mean below. It should take in an original table data, with a column Score, and return the mean score of one resampling from data.\n"
   ]
  },
  {
   "cell_type": "code",
   "execution_count": 6,
   "metadata": {},
   "outputs": [
    {
     "name": "stdout",
     "output_type": "stream",
     "text": [
      "the mean score of one resampling from data is 89.91\n"
     ]
    }
   ],
   "source": [
    "res=Table.read_table('../Data/restaurant_inspection_scores.csv').drop('Address','Facility ID')\n",
    "restaurant_sample=res.sample(100, with_replacement=False)\n",
    "def mean_resample(data): \n",
    "    re_data=data.select('Score').sample().column(0)\n",
    "    return np.mean(re_data) \n",
    "this_mean=mean_resample(restaurant_sample)\n",
    "this_mean\n",
    "print('the mean score of one resampling from data is',this_mean)"
   ]
  },
  {
   "cell_type": "markdown",
   "metadata": {},
   "source": [
    "### 1.2 Question 2\n",
    "#### Complete the function bootstrap scores below. It should take no arguments. It should simulate drawing 5000 resamples from restaurant sample and compute the mean restaurant score in each resample. It should return an array of those 5000 resample means."
   ]
  },
  {
   "cell_type": "code",
   "execution_count": 8,
   "metadata": {},
   "outputs": [
    {
     "data": {
      "text/plain": [
       "array([92.74, 91.01, 91.07, ..., 90.12, 91.43, 91.52])"
      ]
     },
     "execution_count": 8,
     "metadata": {},
     "output_type": "execute_result"
    }
   ],
   "source": [
    "def bootstrap_scores(): \n",
    "    resampled_means = ds.util.make_array()\n",
    "    for i in range(5000):\n",
    "        mean_of_resamples = mean_resample(restaurant_sample)\n",
    "        mean_of_resampled = np.append(mean_of_resampled, mean_of_resamples)\n",
    "    return mean_of_resampled\n",
    "mean_of_resampled = bootstrap_scores() \n",
    "mean_of_resampled\n"
   ]
  },
  {
   "cell_type": "markdown",
   "metadata": {},
   "source": [
    "### 1.3 Question 3\n",
    "#### Compute a 95 percent confidence interval for the average restaurant score using the array resampled means"
   ]
  },
  {
   "cell_type": "code",
   "execution_count": 3,
   "metadata": {},
   "outputs": [
    {
     "name": "stdout",
     "output_type": "stream",
     "text": [
      "95% confidence interval for the average restaurant score, computed by bootstrapping:\n",
      "( 91.17 , 93.90025000000001 )\n"
     ]
    }
   ],
   "source": [
    "lower_bound = np.percentile(mean_of_resampled,2.5)\n",
    "upper_bound = np.percentile(mean_of_resampled,97.5)\n",
    "print(\"95% confidence interval for the average restaurant score, computed by bootstrapping:\\n(\",lower_bound,',',upper_bound,\")\")\n"
   ]
  },
  {
   "cell_type": "markdown",
   "metadata": {},
   "source": [
    "### 1.4 Question 4\n",
    "#### What distribution is the histogram between question 2 and 3 displaying (that is, what data are plotted), and why does it have that shape?"
   ]
  },
  {
   "cell_type": "code",
   "execution_count": 9,
   "metadata": {},
   "outputs": [
    {
     "data": {
      "image/png": "[encoded data removed]",
      "text/plain": [
       "<Figure size 432x288 with 1 Axes>"
      ]
     },
     "metadata": {
      "needs_background": "light"
     },
     "output_type": "display_data"
    }
   ],
   "source": [
    "get_ipython().run_line_magic('matplotlib', 'inline')\n",
    "Table().with_column('Re-sampled Means', mean_of_resampled).hist()"
   ]
  },
  {
   "cell_type": "markdown",
   "metadata": {},
   "source": [
    "#### The data is normally distributed and 95% of data is between 91 to 94."
   ]
  },
  {
   "cell_type": "markdown",
   "metadata": {},
   "source": [
    "### 1.5 Question 5\n",
    "#### Does the distribution of the sampled scores look normally distributed? State “yes” or “no” and describe in one sentence why you should expect this result.\n"
   ]
  },
  {
   "cell_type": "markdown",
   "metadata": {},
   "source": [
    "##### yes, The sampled scores seems normally distributed. Because of Law of Average, As it applies when a random sample is selected from a huge population."
   ]
  },
  {
   "cell_type": "markdown",
   "metadata": {},
   "source": [
    "### 1.6 Question 6\n",
    "#### Without referencing the array resampled means or performing any new simulations, calculate an interval around the sample mean that covers approximately 95% of the numbers in the resampled means array. This confidence interval should look very similar to the one you computed in Question 3."
   ]
  },
  {
   "cell_type": "code",
   "execution_count": 5,
   "metadata": {},
   "outputs": [
    {
     "name": "stdout",
     "output_type": "stream",
     "text": [
      "95% confidence interval for the average restaurant score is \n",
      "(91.14315279581741,93.97684720418259)\n"
     ]
    }
   ],
   "source": [
    "smean = np.mean(restaurant_sample.column(3))\n",
    "sample_SD = np.std(restaurant_sample.column(3))\n",
    "sample_row_size = restaurant_sample.num_rows\n",
    "Mean_SD = sample_SD/np.sqrt(sample_row_size)\n",
    "lower_bound_distribution = smean-(2*Mean_SD)\n",
    "upper_bound_distribution = smean+(2*Mean_SD)\n",
    "print(\"95% confidence interval for the average restaurant score is \\n({lower_bound_distribution},{upper_bound_distribution})\")\n",
    "\n"
   ]
  },
  {
   "cell_type": "markdown",
   "metadata": {},
   "source": [
    "### 2.1 Question 1\n",
    "#### Define the function one statistic prop heads which should return exactly one simulated statistic of the proportion of heads from n coin flips"
   ]
  },
  {
   "cell_type": "code",
   "execution_count": 6,
   "metadata": {},
   "outputs": [
    {
     "data": {
      "text/plain": [
       "0.5"
      ]
     },
     "execution_count": 6,
     "metadata": {},
     "output_type": "execute_result"
    }
   ],
   "source": [
    "coin_proportions = ds.util.make_array(.5, .5) \n",
    "def statistics_one_heads(n):\n",
    "    simulated_proportions = ds.util.sample_proportions(n, coin_proportions)\n",
    "    prop_heads = simulated_proportions.item(0)\n",
    "    return prop_heads\n",
    "statistics_one_heads(10)\n"
   ]
  },
  {
   "cell_type": "markdown",
   "metadata": {},
   "source": [
    "### 2.2 Question 2\n",
    "#### Write a function called sample size n that takes in a sample size n. It should return an array that contains 5000 sample proportions of heads, each from n coin flips."
   ]
  },
  {
   "cell_type": "code",
   "execution_count": 7,
   "metadata": {},
   "outputs": [
    {
     "data": {
      "text/plain": [
       "array([0.4, 0.5, 0.5, ..., 0.5, 0.5, 0.5])"
      ]
     },
     "execution_count": 7,
     "metadata": {},
     "output_type": "execute_result"
    }
   ],
   "source": [
    "def sample_size_n(n):\n",
    "    coin_proportions = ds.util.make_array(.5, .5) \n",
    "    heads_proportions = ds.util.make_array()\n",
    "    for n in np.arange(5000):\n",
    "        head_prop = statistics_one_heads(n)\n",
    "        head_proportion = np.append(heads_proportions, head_prop)\n",
    "    return head_proportion\n",
    "sample_size_n(10)\n"
   ]
  },
  {
   "cell_type": "markdown",
   "metadata": {},
   "source": [
    "### 2.3 Question 3\n",
    "#### Write a function called empirical sample mean sd that takes a sample size n as its argument. The function should simulate 500 samples with replacement of size n from the flight delays dataset, and it should return the standard deviation of the means of those 500 samples."
   ]
  },
  {
   "cell_type": "code",
   "execution_count": 9,
   "metadata": {},
   "outputs": [
    {
     "data": {
      "text/plain": [
       "12.377757670919237"
      ]
     },
     "execution_count": 9,
     "metadata": {},
     "output_type": "execute_result"
    }
   ],
   "source": [
    "delay_in_flight=Table.read_table(\"../Data/united_summer2015.csv\")\n",
    "def Mean_SD_emphirical(n):\n",
    "    sample_means=ds.util.make_array()\n",
    "    for n in np.arange(500):\n",
    "        sample=delay_in_flight.sample(10, with_replacement=True)\n",
    "        mean=np.mean(sample.column('Delay'))\n",
    "        sample_means=np.append(sample_means,mean)\n",
    "    return np.std(sample_means) \n",
    "Mean_SD_emphirical(10)\n"
   ]
  },
  {
   "cell_type": "markdown",
   "metadata": {},
   "source": [
    "### 2.4 Question 4\n",
    "#### Now, write a function called predict sample mean sd to find the predicted value of the standard deviation of means according to the relationship between the standard deviation of the sample mean and sample size that is discussed in the textbook. It takes a sample size n (a number) as its argument. It returns the predicted value of the standard deviation of the mean delay time for samples of size n from the flight delays (represented in the table united)."
   ]
  },
  {
   "cell_type": "code",
   "execution_count": 10,
   "metadata": {},
   "outputs": [
    {
     "data": {
      "text/plain": [
       "12.484735400972708"
      ]
     },
     "execution_count": 10,
     "metadata": {},
     "output_type": "execute_result"
    }
   ],
   "source": [
    "def predict_mean_standard_deviation(n):\n",
    "    return np.std(delay_in_flight.column('Delay'))/n**0.5\n",
    "predict_mean_standard_deviation(10)"
   ]
  },
  {
   "cell_type": "code",
   "execution_count": null,
   "metadata": {},
   "outputs": [],
   "source": []
  }
 ],
 "metadata": {
  "kernelspec": {
   "display_name": "Python 3",
   "language": "python",
   "name": "python3"
  },
  "language_info": {
   "codemirror_mode": {
    "name": "ipython",
    "version": 3
   },
   "file_extension": ".py",
   "mimetype": "text/x-python",
   "name": "python",
   "nbconvert_exporter": "python",
   "pygments_lexer": "ipython3",
   "version": "3.8.5"
  }
 },
 "nbformat": 4,
 "nbformat_minor": 4
}
