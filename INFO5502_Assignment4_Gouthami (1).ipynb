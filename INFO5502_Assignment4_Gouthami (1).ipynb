{
 "cells": [
  {
   "cell_type": "markdown",
   "metadata": {},
   "source": [
    "## Import all Required Libraries"
   ]
  },
  {
   "cell_type": "code",
   "execution_count": 1,
   "metadata": {},
   "outputs": [],
   "source": [
    "import pandas as pd\n",
    "import numpy as np\n",
    "from statistics import mean \n",
    "from matplotlib import pyplot"
   ]
  },
  {
   "cell_type": "markdown",
   "metadata": {},
   "source": [
    "###  Calculate the median income of male employees and the median income of female employee in the population."
   ]
  },
  {
   "cell_type": "code",
   "execution_count": 2,
   "metadata": {},
   "outputs": [
    {
     "name": "stderr",
     "output_type": "stream",
     "text": [
      "C:\\Users\\16197\\anaconda3\\lib\\site-packages\\IPython\\core\\interactiveshell.py:3146: DtypeWarning: Columns (0,2,8,10,21,23,24,25,26,27,28,44,56,64,83,85,87,107,109,123,125,150,157,172,174,194,210,218,219,223,246,249,262,264,276,277,278,279,280,281,282,283,284,285,286,287,288,289,290,304,306,325,326,329,341,368,371,384,385,389,390,391,393,394) have mixed types.Specify dtype option on import or set low_memory=False.\n",
      "  has_raised = await self.run_ast_nodes(code_ast.body, cell_name,\n"
     ]
    },
    {
     "name": "stdout",
     "output_type": "stream",
     "text": [
      "median Income of Male:30-40,000\n",
      "median Income of Female:20-30,000\n"
     ]
    }
   ],
   "source": [
    "data=pd.read_csv('../Data/multipleChoiceResponses.csv')\n",
    "b=pd.notnull(data[\"Q9\"]) \n",
    "c=data[b]\n",
    "cleaning = c[(c.Q1 != 'not available') & (c.Q1 != 'avalible if the person is ok to share') \n",
    "& (c.Q9 != 'I am not intrested to disclose my yearly compensation')]\n",
    "datacleaned=cleaning[['Q1','Q9']][1:]\n",
    "a=datacleaned.groupby('Q9') \n",
    "x1=a.get_group('0-10,000')\n",
    "x2=a.get_group('10-20,000')\n",
    "x3=a.get_group('20-30,000')\n",
    "x4=a.get_group('30-40,000')\n",
    "x5=a.get_group('40-50,000')\n",
    "x6=a.get_group('50-60,000')\n",
    "x7=a.get_group('60-70,000')\n",
    "x8=a.get_group('70-80,000')\n",
    "x9=a.get_group('80-90,000')\n",
    "x10=a.get_group('90-100,000')\n",
    "x11=a.get_group('100-125,000')\n",
    "x12=a.get_group('125-150,000')\n",
    "x13=a.get_group('150-200,000')\n",
    "x14=a.get_group('200-250,000')\n",
    "x15=a.get_group('250-300,000')\n",
    "x16=a.get_group('300-400,000')\n",
    "x17=a.get_group('400-500,000')\n",
    "x18=a.get_group('500,000+')\n",
    "count=pd.concat([x1,x2,x3,x4,x5,x6,x7,x8,x9,x10,x11,x12,x13,x14,x15,x16,x17,x18], axis=0)\n",
    "count1=count.groupby('Q1')['Q9']\n",
    "class_male=count1.get_group('Male')\n",
    "class_female=count1.get_group('Female')\n",
    "male_new_index=class_male.reset_index()\n",
    "female_new_index=class_female.reset_index()\n",
    "male_end_value=male_new_index['Q9']\n",
    "median_value_male=int((len(male_end_value)+1)/2)\n",
    "male_median_finalvalue=male_end_value.iloc[median_value_male]\n",
    "print(f\"median Income of Male:{male_median_finalvalue}\")\n",
    "female_end_value=female_new_index['Q9']\n",
    "median_value_female=int(len(female_end_value)/2)\n",
    "female_median_finalvalue=female_end_value.iloc[median_value_female]\n",
    "print(f\"median Income of Female:{female_median_finalvalue}\")  \n"
   ]
  },
  {
   "cell_type": "markdown",
   "metadata": {},
   "source": [
    "### Draw an overlaid graph to show the histograms of the incomes of female and male employees in the population.(You create one histogram for male, and another histogram for female, but the two histograms will be displayedin the same graph with different colors)."
   ]
  },
  {
   "cell_type": "code",
   "execution_count": 5,
   "metadata": {},
   "outputs": [
    {
     "name": "stderr",
     "output_type": "stream",
     "text": [
      "<ipython-input-5-27e7c07356ee>:7: MatplotlibDeprecationWarning: Case-insensitive properties were deprecated in 3.3 and support will be removed two minor releases later\n",
      "  pyplot.hist(class_female, bins=16, alpha=0.5,edgecolor='Black', linewidth=1.5, label='Female', Color=\"Green\")\n"
     ]
    },
    {
     "data": {
      "text/plain": [
       "<matplotlib.legend.Legend at 0x2064b714880>"
      ]
     },
     "execution_count": 5,
     "metadata": {},
     "output_type": "execute_result"
    },
    {
     "data": {
      "image/png": "[encoded data removed]",
      "text/plain": [
       "<Figure size 1440x864 with 1 Axes>"
      ]
     },
     "metadata": {
      "needs_background": "light"
     },
     "output_type": "display_data"
    }
   ],
   "source": [
    "count=pd.concat([x1,x2,x3,x4,x5,x6,x7,x8,x9,x10,x11,x12,x13,x14,x15,x16,x17,x18],axis=0)\n",
    "count1=count.groupby('Q1')['Q9']\n",
    "class_male=count1.get_group('Male')\n",
    "class_female=count1.get_group('Female')\n",
    "fig=pyplot.figure(figsize=(20,12))\n",
    "pyplot.hist(class_male, bins=16,alpha=0.5,edgecolor='Blue', linewidth=1.5, label='Male',color =\"Red\") \n",
    "pyplot.hist(class_female, bins=16, alpha=0.5,edgecolor='Black', linewidth=1.5, label='Female', Color=\"Green\") \n",
    "pyplot.legend()"
   ]
  },
  {
   "cell_type": "markdown",
   "metadata": {},
   "source": [
    "### Use the random sampling, empirical distribution, sample comparison, bootstrap, hypothesis testing as well asA/B testing we discussed in the class to analyze the income gap between female and male employees."
   ]
  },
  {
   "cell_type": "markdown",
   "metadata": {},
   "source": [
    "### select a sample from the population. Make sure your sample include 500 employees selected from the pop-ulation, and consider how to ensure the sampling strategy is fair since the datasets include overwhelmed male employees than female employees"
   ]
  },
  {
   "cell_type": "code",
   "execution_count": 6,
   "metadata": {},
   "outputs": [
    {
     "data": {
      "text/html": [
       "<div>\n",
       "<style scoped>\n",
       "    .dataframe tbody tr th:only-of-type {\n",
       "        vertical-align: middle;\n",
       "    }\n",
       "\n",
       "    .dataframe tbody tr th {\n",
       "        vertical-align: top;\n",
       "    }\n",
       "\n",
       "    .dataframe thead th {\n",
       "        text-align: right;\n",
       "    }\n",
       "</style>\n",
       "<table border=\"1\" class=\"dataframe\">\n",
       "  <thead>\n",
       "    <tr style=\"text-align: right;\">\n",
       "      <th></th>\n",
       "      <th>Q1</th>\n",
       "      <th>Q9</th>\n",
       "      <th>data</th>\n",
       "    </tr>\n",
       "  </thead>\n",
       "  <tbody>\n",
       "    <tr>\n",
       "      <th>11576</th>\n",
       "      <td>Male</td>\n",
       "      <td>60-70,000</td>\n",
       "      <td>70000</td>\n",
       "    </tr>\n",
       "    <tr>\n",
       "      <th>4626</th>\n",
       "      <td>Male</td>\n",
       "      <td>40-50,000</td>\n",
       "      <td>50000</td>\n",
       "    </tr>\n",
       "    <tr>\n",
       "      <th>16679</th>\n",
       "      <td>Male</td>\n",
       "      <td>40-50,000</td>\n",
       "      <td>50000</td>\n",
       "    </tr>\n",
       "    <tr>\n",
       "      <th>643</th>\n",
       "      <td>Male</td>\n",
       "      <td>I do not wish to disclose my approximate yearl...</td>\n",
       "      <td>NaN</td>\n",
       "    </tr>\n",
       "    <tr>\n",
       "      <th>12174</th>\n",
       "      <td>Male</td>\n",
       "      <td>I do not wish to disclose my approximate yearl...</td>\n",
       "      <td>NaN</td>\n",
       "    </tr>\n",
       "    <tr>\n",
       "      <th>...</th>\n",
       "      <td>...</td>\n",
       "      <td>...</td>\n",
       "      <td>...</td>\n",
       "    </tr>\n",
       "    <tr>\n",
       "      <th>4545</th>\n",
       "      <td>Female</td>\n",
       "      <td>10-20,000</td>\n",
       "      <td>20000</td>\n",
       "    </tr>\n",
       "    <tr>\n",
       "      <th>3595</th>\n",
       "      <td>Female</td>\n",
       "      <td>125-150,000</td>\n",
       "      <td>150000</td>\n",
       "    </tr>\n",
       "    <tr>\n",
       "      <th>16286</th>\n",
       "      <td>Female</td>\n",
       "      <td>I do not wish to disclose my approximate yearl...</td>\n",
       "      <td>NaN</td>\n",
       "    </tr>\n",
       "    <tr>\n",
       "      <th>22343</th>\n",
       "      <td>Female</td>\n",
       "      <td>10-20,000</td>\n",
       "      <td>20000</td>\n",
       "    </tr>\n",
       "    <tr>\n",
       "      <th>3346</th>\n",
       "      <td>Female</td>\n",
       "      <td>I do not wish to disclose my approximate yearl...</td>\n",
       "      <td>NaN</td>\n",
       "    </tr>\n",
       "  </tbody>\n",
       "</table>\n",
       "<p>500 rows × 3 columns</p>\n",
       "</div>"
      ],
      "text/plain": [
       "           Q1                                                 Q9    data\n",
       "11576    Male                                          60-70,000   70000\n",
       "4626     Male                                          40-50,000   50000\n",
       "16679    Male                                          40-50,000   50000\n",
       "643      Male  I do not wish to disclose my approximate yearl...     NaN\n",
       "12174    Male  I do not wish to disclose my approximate yearl...     NaN\n",
       "...       ...                                                ...     ...\n",
       "4545   Female                                          10-20,000   20000\n",
       "3595   Female                                        125-150,000  150000\n",
       "16286  Female  I do not wish to disclose my approximate yearl...     NaN\n",
       "22343  Female                                          10-20,000   20000\n",
       "3346   Female  I do not wish to disclose my approximate yearl...     NaN\n",
       "\n",
       "[500 rows x 3 columns]"
      ]
     },
     "execution_count": 6,
     "metadata": {},
     "output_type": "execute_result"
    }
   ],
   "source": [
    "split=datacleaned['Q9'].str.split('-').str[1]\n",
    "one=split.str.split(',').str[0]\n",
    "two=split.str.split(',').str[1]\n",
    "datacleaned['data']=one+two  \n",
    "index_male=datacleaned[datacleaned['Q1']=='Male'].index \n",
    "sample_male=np.random.choice(index_male,250,replace=False)\n",
    "Male=datacleaned.loc[sample_male]\n",
    "Female_index=datacleaned[datacleaned['Q1']=='Female'].index\n",
    "sample_female=np.random.choice(Female_index,250,replace=False) \n",
    "Female=datacleaned.loc[sample_female]\n",
    "sample_results=pd.concat([Male,Female],axis=0)\n",
    "sample_results"
   ]
  },
  {
   "cell_type": "markdown",
   "metadata": {},
   "source": [
    "### Define test statistic, null hypothesis and alternative hypothesis"
   ]
  },
  {
   "cell_type": "markdown",
   "metadata": {},
   "source": [
    "### Null Hypothesis:There is no pay Gap between Male and Female Employees\n",
    "### Alternative Hypothesis: There is a pay gap between Male and Female Employees"
   ]
  },
  {
   "cell_type": "markdown",
   "metadata": {},
   "source": [
    "### Draw the income histogram for the sample, calculate the median income of the sample, and draw a reddot and a yellow dot of the female median income and male median income of the population, respectively,in the histogram"
   ]
  },
  {
   "cell_type": "code",
   "execution_count": 8,
   "metadata": {},
   "outputs": [
    {
     "data": {
      "text/plain": [
       "<matplotlib.legend.Legend at 0x2064c69a970>"
      ]
     },
     "execution_count": 8,
     "metadata": {},
     "output_type": "execute_result"
    },
    {
     "data": {
      "image/png": "[encoded data removed]",
      "text/plain": [
       "<Figure size 1296x720 with 1 Axes>"
      ]
     },
     "metadata": {
      "needs_background": "light"
     },
     "output_type": "display_data"
    }
   ],
   "source": [
    "pyplot.figure(figsize=(18,10))\n",
    "pyplot.hist(sample_results['Q9'],bins=16,alpha=0.5,edgecolor='black', linewidth=1.2, color= \"Grey\")\n",
    "pyplot.scatter( male_median_finalvalue,0, color='red', s=30,label='Male') \n",
    "pyplot.scatter(female_median_finalvalue,0,color='yellow',s=30,label='Female') \n",
    "pyplot.legend()"
   ]
  },
  {
   "cell_type": "markdown",
   "metadata": {},
   "source": [
    "### Draw the histogram of the test statistic of the sample, and draw a red dot to show the corresponding teststatistic of the population (e.g. the difference of the median incomes between female and male employees)in the diagram "
   ]
  },
  {
   "cell_type": "code",
   "execution_count": 13,
   "metadata": {},
   "outputs": [
    {
     "data": {
      "text/plain": [
       "<matplotlib.legend.Legend at 0x2064b1fb940>"
      ]
     },
     "execution_count": 13,
     "metadata": {},
     "output_type": "execute_result"
    },
    {
     "data": {
      "image/png": "[encoded data removed]",
      "text/plain": [
       "<Figure size 432x288 with 1 Axes>"
      ]
     },
     "metadata": {
      "needs_background": "light"
     },
     "output_type": "display_data"
    }
   ],
   "source": [
    "male_female_random=[]\n",
    "c=data[b] \n",
    "cleaning = c[(c.Q1 != 'Prefer not to say') & (c.Q1 != 'Prefer to self-describe') \n",
    "& (c.Q9 != 'I do not wish to disclose my approximate yearly compensation')] \n",
    "datacleaned=cleaning[['Q1','Q9']][1:]\n",
    "average_dictionary = {'0-10,000': 5000, '10-20,000': 15000, '20-30,000': 25000, '30-40,000': 35000,\n",
    "       '40-50,000': 45000, '50-60,000': 55000, '60-70,000': 65000, '70-80,000': 75000,\n",
    "       '80-90,000': 85000, '90-100,000': 95000, '100-125,000': 112500,\n",
    "       '125-150,000': 137500, '150-200,000': 175000, '200-250,000': 225000,\n",
    "       '250-300,000': 275000, '300-400,000': 350000, '400-500,000': 450000,\n",
    "       '500,000+':500000,'500,000':500000}\n",
    "datacleaned['Avg_salary'] = datacleaned['Q9'].apply(lambda value: average_dictionary[value]) \n",
    "for temp in range(500):\n",
    "    \n",
    "    index_male=datacleaned[datacleaned['Q1']=='Male'].index \n",
    "    sample_male=np.random.choice(index_male,250,replace=False)\n",
    "    Male=datacleaned.loc[sample_male]\n",
    "    Male_data=Male['Avg_salary'].mean()  \n",
    "    Female_index=datacleaned[datacleaned['Q1']=='Female'].index\n",
    "    sample_female=np.random.choice(Female_index,250,replace=False)\n",
    "    Female=datacleaned.loc[sample_female]\n",
    "    Female_data=Female['Avg_salary'].mean() \n",
    "    male_female_random.append(Male_data-Female_data)\n",
    "males_females=datacleaned.groupby('Q1')\n",
    "average_male=males_females.get_group('Male')['Avg_salary'].mean()\n",
    "average_female=males_females.get_group('Female')['Avg_salary'].mean()\n",
    "difference_in_average_male_female=average_male-average_female \n",
    "pyplot.hist(male_female_random,bins=20,alpha=0.5,edgecolor='White', linewidth=1.2, color=\"Green\") \n",
    "pyplot.scatter(difference_in_average_male_female,0,color='red', s=30,label='Average_income') \n",
    "pyplot.legend(loc='upper right')"
   ]
  },
  {
   "cell_type": "markdown",
   "metadata": {},
   "source": [
    "### Write a procedure to use bootstrap to produce at least 5000 samples"
   ]
  },
  {
   "cell_type": "code",
   "execution_count": 20,
   "metadata": {},
   "outputs": [
    {
     "name": "stdout",
     "output_type": "stream",
     "text": [
      "The Mean of original data is between 3971.9892200597524 and 12345.582195150157\n"
     ]
    },
    {
     "data": {
      "text/plain": [
       "<matplotlib.legend.Legend at 0x2064bfb8190>"
      ]
     },
     "execution_count": 20,
     "metadata": {},
     "output_type": "execute_result"
    },
    {
     "data": {
      "image/png": "[encoded data removed]",
      "text/plain": [
       "<Figure size 432x288 with 1 Axes>"
      ]
     },
     "metadata": {
      "needs_background": "light"
     },
     "output_type": "display_data"
    }
   ],
   "source": [
    "sample_for_bootstrap_Diff=[]\n",
    "datacleaned['Avg_salary'] = datacleaned['Q9'].apply(lambda value: average_dictionary[value])  \n",
    "sample_data=datacleaned.sample(5000,replace=False) \n",
    "sample_data=sample_data[['Q1','Avg_salary']]\n",
    "for temp in range(500):\n",
    "    sample_for_bootstrap=sample_data.sample(5000,replace=True) \n",
    "    sample_for_bootstrap_groupby=sample_for_bootstrap.groupby('Q1')\n",
    "    bootrap_male_mean=sample_for_bootstrap_groupby.get_group('Male')['Avg_salary'].mean() \n",
    "    bootrap_female_mean=sample_for_bootstrap_groupby.get_group('Female')['Avg_salary'].mean() \n",
    "    sample_for_bootstrap_Diff.append(bootrap_male_mean-bootrap_female_mean)\n",
    "sample_for_bootstrap_Diffs=pd.DataFrame(sample_for_bootstrap_Diff,columns=['Bootstrap_values'])\n",
    "left_tale=sample_for_bootstrap_Diffs.Bootstrap_values.quantile(0.025) \n",
    "right_tale=sample_for_bootstrap_Diffs.Bootstrap_values.quantile(0.975) \n",
    "print(f\"The Mean of original data is between {left_tale} and {right_tale}\")\n",
    "males_females=datacleaned.groupby('Q1')\n",
    "average_male=males_females.get_group('Male')['Avg_salary'].mean() \n",
    "average_female=males_females.get_group('Female')['Avg_salary'].mean() \n",
    "difference_in_average_male_female=average_male-average_female\n",
    "pyplot.hist(sample_for_bootstrap_Diff,bins=20,alpha=0.5,edgecolor='black', linewidth=1.2, color =\"Pink\") \n",
    "pyplot.hlines((0,0),left_tale,right_tale, colors='green', linestyles='solid',linewidth=5,label='Approximate Data') \n",
    "pyplot.scatter(difference_in_average_male_female,0,color='red',s=70,label='Avg of Original Data') \n",
    "pyplot.legend(loc='upper right')"
   ]
  },
  {
   "cell_type": "markdown",
   "metadata": {},
   "source": [
    "### Draw the histogram of the test statistic of the bootstrap samples"
   ]
  },
  {
   "cell_type": "code",
   "execution_count": 23,
   "metadata": {},
   "outputs": [
    {
     "data": {
      "image/png": "[encoded data removed]",
      "text/plain": [
       "<Figure size 432x288 with 1 Axes>"
      ]
     },
     "metadata": {
      "needs_background": "light"
     },
     "output_type": "display_data"
    }
   ],
   "source": [
    "Shuffled_difference_in_mean=[]\n",
    "clean_data=datacleaned[['Q1','Avg_salary']]\n",
    "for shuff in range(500): \n",
    "    data_shuffle=clean_data.sample(len(clean_data),replace=False)['Q1'].reset_index()['Q1']\n",
    "    frame = { 'shuffle_gender':data_shuffle } \n",
    "    result = pd.DataFrame(frame)\n",
    "    clean1=clean_data['Q1'].reset_index()['Q1']\n",
    "    clean2=clean_data['Avg_salary'].reset_index()['Avg_salary']\n",
    "    result['Avg_salary']=clean2\n",
    "    result['original_gender']=clean1\n",
    "    shuffle_group=result.groupby('shuffle_gender')\n",
    "    Shuffle_male_mean=shuffle_group.get_group('Male')['Avg_salary'].mean() \n",
    "    Shuffle_female_mean=shuffle_group.get_group('Female')['Avg_salary'].mean()\n",
    "    Shuffled_difference_in_mean.append(Shuffle_male_mean-Shuffle_female_mean) \n",
    "males_females=datacleaned.groupby('Q1')\n",
    "average_male=males_females.get_group('Male')['Avg_salary'].mean() \n",
    "average_female=males_females.get_group('Female')['Avg_salary'].mean() \n",
    "difference_in_average_male_female=average_male-average_female \n",
    "pyplot.hist(shuffles_mean_diff,bins=20,alpha=0.5,edgecolor='Red', linewidth=1.2, color='Orange')\n",
    "shuffles_mean_diff=np.array(Shuffled_difference_in_mean)"
   ]
  },
  {
   "cell_type": "markdown",
   "metadata": {},
   "source": [
    "### Define confidence interval and P-value to validate the hypothesis you defined"
   ]
  },
  {
   "cell_type": "code",
   "execution_count": 26,
   "metadata": {},
   "outputs": [
    {
     "name": "stdout",
     "output_type": "stream",
     "text": [
      "P value : 1.002004008016032\n"
     ]
    }
   ],
   "source": [
    "Shuffled_difference_in_mean=np.array(Shuffled_difference_in_mean)\n",
    "P_value=np.count_nonzero(Shuffled_difference_in_mean <= difference_in_average_male_female ) / shuff \n",
    "print(f\"P value : {P_value}\")"
   ]
  },
  {
   "cell_type": "code",
   "execution_count": null,
   "metadata": {},
   "outputs": [],
   "source": []
  }
 ],
 "metadata": {
  "kernelspec": {
   "display_name": "Python 3",
   "language": "python",
   "name": "python3"
  },
  "language_info": {
   "codemirror_mode": {
    "name": "ipython",
    "version": 3
   },
   "file_extension": ".py",
   "mimetype": "text/x-python",
   "name": "python",
   "nbconvert_exporter": "python",
   "pygments_lexer": "ipython3",
   "version": "3.8.5"
  }
 },
 "nbformat": 4,
 "nbformat_minor": 4
}
